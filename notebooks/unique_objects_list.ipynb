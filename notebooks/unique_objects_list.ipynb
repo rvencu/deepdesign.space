{
 "metadata": {
  "language_info": {
   "codemirror_mode": {
    "name": "ipython",
    "version": 3
   },
   "file_extension": ".py",
   "mimetype": "text/x-python",
   "name": "python",
   "nbconvert_exporter": "python",
   "pygments_lexer": "ipython3",
   "version": "3.9.4"
  },
  "orig_nbformat": 2,
  "kernelspec": {
   "name": "python394jvsc74a57bd097341db2ed84628ca450d51707eb6cc1245cc2b1a4eb5d6a4ec8a5745e7f2851",
   "display_name": "Python 3.9.4 64-bit ('dds': conda)"
  }
 },
 "nbformat": 4,
 "nbformat_minor": 2,
 "cells": [
  {
   "cell_type": "code",
   "execution_count": 23,
   "metadata": {},
   "outputs": [],
   "source": [
    "import pandas as pd\n",
    "import math"
   ]
  },
  {
   "cell_type": "code",
   "execution_count": 9,
   "metadata": {},
   "outputs": [],
   "source": [
    "df = pd.read_csv(\"Pinterest/labels.csv\",names=[\"link\",\"w\",\"h\",\"style\",\"title\",\"objects\"])"
   ]
  },
  {
   "cell_type": "code",
   "execution_count": 16,
   "metadata": {},
   "outputs": [
    {
     "output_type": "execute_result",
     "data": {
      "text/plain": [
       "0                       couch|vase\n",
       "1                             vase\n",
       "2                      couch|chair\n",
       "3                            chair\n",
       "4               couch|potted plant\n",
       "                   ...            \n",
       "69202                        couch\n",
       "69203     couch|potted plant|chair\n",
       "69204       dog|potted plant|chair\n",
       "69205    laptop|couch|potted plant\n",
       "69206                          bed\n",
       "Name: objects, Length: 69207, dtype: object"
      ]
     },
     "metadata": {},
     "execution_count": 16
    }
   ],
   "source": [
    "df[\"objects\"]"
   ]
  },
  {
   "cell_type": "code",
   "execution_count": 40,
   "metadata": {
    "tags": []
   },
   "outputs": [],
   "source": [
    "df2 = df[df[\"objects\"].notnull()]\n",
    "v = df2[\"objects\"].tolist()"
   ]
  },
  {
   "cell_type": "code",
   "execution_count": 41,
   "metadata": {},
   "outputs": [],
   "source": [
    "y = [x.split(\"|\") for x in v]"
   ]
  },
  {
   "cell_type": "code",
   "execution_count": 44,
   "metadata": {},
   "outputs": [],
   "source": [
    "x = [item for sublist in y for item in sublist]"
   ]
  },
  {
   "cell_type": "code",
   "execution_count": 47,
   "metadata": {},
   "outputs": [],
   "source": [
    "val = set(x)"
   ]
  },
  {
   "cell_type": "code",
   "execution_count": 48,
   "metadata": {},
   "outputs": [
    {
     "output_type": "execute_result",
     "data": {
      "text/plain": [
       "{'airplane',\n",
       " 'apple',\n",
       " 'backpack',\n",
       " 'banana',\n",
       " 'baseball bat',\n",
       " 'bed',\n",
       " 'bench',\n",
       " 'bicycle',\n",
       " 'bird',\n",
       " 'boat',\n",
       " 'book',\n",
       " 'bottle',\n",
       " 'bowl',\n",
       " 'broccoli',\n",
       " 'cake',\n",
       " 'car',\n",
       " 'carrot',\n",
       " 'cat',\n",
       " 'cell phone',\n",
       " 'chair',\n",
       " 'clock',\n",
       " 'couch',\n",
       " 'cow',\n",
       " 'cup',\n",
       " 'dining table',\n",
       " 'dog',\n",
       " 'donut',\n",
       " 'elephant',\n",
       " 'fire hydrant',\n",
       " 'fork',\n",
       " 'giraffe',\n",
       " 'handbag',\n",
       " 'horse',\n",
       " 'keyboard',\n",
       " 'knife',\n",
       " 'laptop',\n",
       " 'microwave',\n",
       " 'motorcycle',\n",
       " 'mouse',\n",
       " 'orange',\n",
       " 'oven',\n",
       " 'person',\n",
       " 'pizza',\n",
       " 'potted plant',\n",
       " 'refrigerator',\n",
       " 'remote',\n",
       " 'scissors',\n",
       " 'sheep',\n",
       " 'sink',\n",
       " 'skateboard',\n",
       " 'snowboard',\n",
       " 'spoon',\n",
       " 'sports ball',\n",
       " 'stop sign',\n",
       " 'suitcase',\n",
       " 'surfboard',\n",
       " 'teddy bear',\n",
       " 'tennis racket',\n",
       " 'tie',\n",
       " 'toaster',\n",
       " 'toilet',\n",
       " 'toothbrush',\n",
       " 'traffic light',\n",
       " 'train',\n",
       " 'truck',\n",
       " 'tv',\n",
       " 'umbrella',\n",
       " 'vase',\n",
       " 'wine glass',\n",
       " 'zebra'}"
      ]
     },
     "metadata": {},
     "execution_count": 48
    }
   ],
   "source": [
    "val"
   ]
  },
  {
   "cell_type": "code",
   "execution_count": null,
   "metadata": {},
   "outputs": [],
   "source": []
  }
 ]
}