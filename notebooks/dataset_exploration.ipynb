{
 "metadata": {
  "language_info": {
   "codemirror_mode": {
    "name": "ipython",
    "version": 3
   },
   "file_extension": ".py",
   "mimetype": "text/x-python",
   "name": "python",
   "nbconvert_exporter": "python",
   "pygments_lexer": "ipython3",
   "version": "3.9.4"
  },
  "orig_nbformat": 2,
  "kernelspec": {
   "name": "python394jvsc74a57bd0247ab06e135bb35fa78c5eff31b2a9a0050dcb5fb773c2631d2a29ac689eeccb",
   "display_name": "Python 3.9.4 64-bit"
  }
 },
 "nbformat": 4,
 "nbformat_minor": 2,
 "cells": [
  {
   "cell_type": "code",
   "execution_count": 1,
   "metadata": {},
   "outputs": [],
   "source": [
    "import numpy as np # linear algebra\n",
    "import pandas as pd # data processing, CSV file I/O (e.g. pd.read_csv)\n",
    "import os\n",
    "import cv2\n",
    "import matplotlib.pyplot as plt\n",
    "import seaborn as sns\n",
    "from imutils import paths\n",
    "%matplotlib inline"
   ]
  },
  {
   "cell_type": "code",
   "execution_count": 2,
   "metadata": {},
   "outputs": [],
   "source": [
    "base_dir = \"./Pinterest\"\n",
    "shapes = []"
   ]
  },
  {
   "cell_type": "code",
   "execution_count": 3,
   "metadata": {},
   "outputs": [
    {
     "output_type": "stream",
     "name": "stdout",
     "text": [
      "[INFO] computing image sizes...\n"
     ]
    },
    {
     "output_type": "error",
     "ename": "NameError",
     "evalue": "name 'i' is not defined",
     "traceback": [
      "\u001b[1;31m---------------------------------------------------------------------------\u001b[0m",
      "\u001b[1;31mNameError\u001b[0m                                 Traceback (most recent call last)",
      "\u001b[1;32m<ipython-input-3-385a89a157c1>\u001b[0m in \u001b[0;36m<module>\u001b[1;34m\u001b[0m\n\u001b[0;32m      5\u001b[0m \u001b[0mdf\u001b[0m \u001b[1;33m=\u001b[0m \u001b[0mpd\u001b[0m\u001b[1;33m.\u001b[0m\u001b[0mDataFrame\u001b[0m\u001b[1;33m(\u001b[0m\u001b[1;33m{\u001b[0m\u001b[1;34m'Shapes'\u001b[0m\u001b[1;33m:\u001b[0m \u001b[0mshapes\u001b[0m\u001b[1;33m}\u001b[0m\u001b[1;33m)\u001b[0m\u001b[1;33m\u001b[0m\u001b[1;33m\u001b[0m\u001b[0m\n\u001b[0;32m      6\u001b[0m \u001b[0mcounts\u001b[0m \u001b[1;33m=\u001b[0m \u001b[0mdf\u001b[0m\u001b[1;33m[\u001b[0m\u001b[1;34m'Shapes'\u001b[0m\u001b[1;33m]\u001b[0m\u001b[1;33m.\u001b[0m\u001b[0mvalue_counts\u001b[0m\u001b[1;33m(\u001b[0m\u001b[1;33m)\u001b[0m\u001b[1;33m\u001b[0m\u001b[1;33m\u001b[0m\u001b[0m\n\u001b[1;32m----> 7\u001b[1;33m \u001b[0mprint\u001b[0m\u001b[1;33m(\u001b[0m\u001b[1;34m\"Shape %s counts: %d\"\u001b[0m \u001b[1;33m%\u001b[0m \u001b[1;33m(\u001b[0m\u001b[0mcounts\u001b[0m\u001b[1;33m.\u001b[0m\u001b[0mindex\u001b[0m\u001b[1;33m[\u001b[0m\u001b[0mi\u001b[0m\u001b[1;33m]\u001b[0m\u001b[1;33m,\u001b[0m \u001b[0mcounts\u001b[0m\u001b[1;33m.\u001b[0m\u001b[0mvalues\u001b[0m\u001b[1;33m[\u001b[0m\u001b[0mi\u001b[0m\u001b[1;33m]\u001b[0m\u001b[1;33m)\u001b[0m\u001b[1;33m)\u001b[0m\u001b[1;33m\u001b[0m\u001b[1;33m\u001b[0m\u001b[0m\n\u001b[0m",
      "\u001b[1;31mNameError\u001b[0m: name 'i' is not defined"
     ]
    }
   ],
   "source": [
    "print(\"[INFO] computing image sizes...\")\n",
    "imagePaths = list(paths.list_images(base_dir))\n",
    "for imagePath in imagePaths:\n",
    "\tshapes.append(cv2.imread(imagePath).shape)\n",
    "df = pd.DataFrame({'Shapes': shapes})\n",
    "counts = df['Shapes'].value_counts()"
   ]
  },
  {
   "cell_type": "code",
   "execution_count": 10,
   "metadata": {},
   "outputs": [
    {
     "output_type": "error",
     "ename": "TypeError",
     "evalue": "'Series' object is not callable",
     "traceback": [
      "\u001b[1;31m---------------------------------------------------------------------------\u001b[0m",
      "\u001b[1;31mTypeError\u001b[0m                                 Traceback (most recent call last)",
      "\u001b[1;32m<ipython-input-10-b214e4fa9828>\u001b[0m in \u001b[0;36m<module>\u001b[1;34m\u001b[0m\n\u001b[1;32m----> 1\u001b[1;33m \u001b[0mcounts\u001b[0m\u001b[1;33m(\u001b[0m\u001b[1;36m10\u001b[0m\u001b[1;33m)\u001b[0m\u001b[1;33m\u001b[0m\u001b[1;33m\u001b[0m\u001b[0m\n\u001b[0m",
      "\u001b[1;31mTypeError\u001b[0m: 'Series' object is not callable"
     ]
    }
   ],
   "source": [
    "counts"
   ]
  },
  {
   "cell_type": "code",
   "execution_count": 12,
   "metadata": {
    "tags": []
   },
   "outputs": [
    {
     "output_type": "stream",
     "name": "stdout",
     "text": [
      "Shape (1500, 1000, 3) counts: 878\nShape (666, 1000, 3) counts: 597\nShape (900, 600, 3) counts: 359\nShape (1200, 800, 3) counts: 355\nShape (1104, 736, 3) counts: 343\nShape (600, 600, 3) counts: 338\nShape (1350, 1080, 3) counts: 327\nShape (1000, 1000, 3) counts: 310\nShape (667, 1000, 3) counts: 309\nShape (1024, 683, 3) counts: 271\nShape (768, 768, 3) counts: 265\nShape (800, 1200, 3) counts: 240\nShape (800, 800, 3) counts: 237\nShape (500, 750, 3) counts: 234\nShape (640, 640, 3) counts: 225\nShape (750, 500, 3) counts: 222\nShape (846, 564, 3) counts: 220\nShape (1080, 1080, 3) counts: 219\nShape (1000, 1500, 3) counts: 219\nShape (960, 640, 3) counts: 216\nShape (600, 800, 3) counts: 213\nShape (533, 800, 3) counts: 208\nShape (1152, 768, 3) counts: 200\nShape (1125, 750, 3) counts: 192\nShape (600, 900, 3) counts: 192\nShape (1333, 1000, 3) counts: 191\nShape (683, 1024, 3) counts: 189\nShape (1800, 1200, 3) counts: 189\nShape (800, 600, 3) counts: 188\nShape (400, 600, 3) counts: 187\nShape (1000, 667, 3) counts: 183\nShape (750, 1000, 3) counts: 168\nShape (500, 500, 3) counts: 153\nShape (1024, 768, 3) counts: 149\nShape (2250, 1500, 3) counts: 146\nShape (1600, 1200, 3) counts: 140\nShape (632, 808, 3) counts: 132\nShape (600, 400, 3) counts: 132\nShape (1250, 1000, 3) counts: 130\nShape (1000, 750, 3) counts: 129\nShape (512, 768, 3) counts: 126\nShape (920, 736, 3) counts: 125\nShape (705, 564, 3) counts: 124\nShape (1080, 1920, 3) counts: 119\nShape (1050, 700, 3) counts: 118\nShape (640, 480, 3) counts: 115\nShape (1600, 1067, 3) counts: 114\nShape (1024, 1024, 3) counts: 114\nShape (800, 640, 3) counts: 110\nShape (981, 736, 3) counts: 109\n"
     ]
    }
   ],
   "source": [
    "for i in range (50):\n",
    "    print(\"Shape %s counts: %d\" % (counts.index[i], counts.values[i]))"
   ]
  },
  {
   "cell_type": "code",
   "execution_count": null,
   "metadata": {},
   "outputs": [],
   "source": [
    "plt.figure(figsize=(14, 10))\n",
    "sns.barplot(x=counts.index, y=counts.values)\n",
    "plt.title(\"Dataset Sizes\")\n",
    "plt.show()"
   ]
  }
 ]
}