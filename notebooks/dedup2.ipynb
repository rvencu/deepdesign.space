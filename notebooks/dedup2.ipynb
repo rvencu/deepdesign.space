{
 "metadata": {
  "language_info": {
   "codemirror_mode": {
    "name": "ipython",
    "version": 3
   },
   "file_extension": ".py",
   "mimetype": "text/x-python",
   "name": "python",
   "nbconvert_exporter": "python",
   "pygments_lexer": "ipython3",
   "version": "3.9.4"
  },
  "orig_nbformat": 2,
  "kernelspec": {
   "name": "python394jvsc74a57bd0247ab06e135bb35fa78c5eff31b2a9a0050dcb5fb773c2631d2a29ac689eeccb",
   "display_name": "Python 3.9.4 64-bit"
  }
 },
 "nbformat": 4,
 "nbformat_minor": 2,
 "cells": [
  {
   "cell_type": "code",
   "execution_count": 1,
   "metadata": {},
   "outputs": [],
   "source": [
    "# import the necessary packages\n",
    "from imutils import paths\n",
    "import numpy as np\n",
    "import argparse\n",
    "import cv2\n",
    "import os"
   ]
  },
  {
   "cell_type": "code",
   "execution_count": 2,
   "metadata": {},
   "outputs": [],
   "source": [
    "def dhash(image, hashSize=8):\n",
    "\t# convert the image to grayscale and resize the grayscale image,\n",
    "\t# adding a single column (width) so we can compute the horizontal\n",
    "\t# gradient\n",
    "\tgray = cv2.cvtColor(image, cv2.COLOR_BGR2GRAY)\n",
    "\tresized = cv2.resize(gray, (hashSize + 1, hashSize))\n",
    "\t# compute the (relative) horizontal gradient between adjacent\n",
    "\t# column pixels\n",
    "\tdiff = resized[:, 1:] > resized[:, :-1]\n",
    "\t# convert the difference image to a hash and return it\n",
    "\treturn sum([2 ** i for (i, v) in enumerate(diff.flatten()) if v])"
   ]
  },
  {
   "cell_type": "code",
   "execution_count": 3,
   "metadata": {},
   "outputs": [
    {
     "output_type": "stream",
     "name": "stderr",
     "text": [
      "usage: ipykernel_launcher [-h] -d DATASET [-r REMOVE]\nipykernel_launcher: error: the following arguments are required: -d/--dataset\n"
     ]
    },
    {
     "output_type": "error",
     "ename": "SystemExit",
     "evalue": "2",
     "traceback": [
      "An exception has occurred, use %tb to see the full traceback.\n",
      "\u001b[1;31mSystemExit\u001b[0m\u001b[1;31m:\u001b[0m 2\n"
     ]
    }
   ],
   "source": [
    "ap = argparse.ArgumentParser()\n",
    "ap.add_argument(\"-d\", \"--dataset\", required=True,\n",
    "\thelp=\"path to input dataset\")\n",
    "ap.add_argument(\"-r\", \"--remove\", type=int, default=-1,\n",
    "\thelp=\"whether or not duplicates should be removed (i.e., dry run)\")\n",
    "args = vars(ap.parse_args())"
   ]
  },
  {
   "cell_type": "code",
   "execution_count": null,
   "metadata": {},
   "outputs": [],
   "source": [
    "# grab the paths to all images in our input dataset directory and\n",
    "# then initialize our hashes dictionary\n",
    "print(\"[INFO] computing image hashes...\")\n",
    "imagePaths = list(paths.list_images(args[\"dataset\"]))\n",
    "hashes = {}\n",
    "# loop over our image paths\n",
    "for imagePath in imagePaths:\n",
    "\t# load the input image and compute the hash\n",
    "\timage = cv2.imread(imagePath)\n",
    "\th = dhash(image)\n",
    "\t# grab all image paths with that hash, add the current image\n",
    "\t# path to it, and store the list back in the hashes dictionary\n",
    "\tp = hashes.get(h, [])\n",
    "\tp.append(imagePath)\n",
    "\thashes[h] = p"
   ]
  },
  {
   "cell_type": "code",
   "execution_count": null,
   "metadata": {},
   "outputs": [],
   "source": [
    "# loop over the image hashes\n",
    "for (h, hashedPaths) in hashes.items():\n",
    "\t# check to see if there is more than one image with the same hash\n",
    "\tif len(hashedPaths) > 1:\n",
    "\t\t# check to see if this is a dry run\n",
    "\t\tif args[\"remove\"] <= 0:\n",
    "\t\t\t# initialize a montage to store all images with the same\n",
    "\t\t\t# hash\n",
    "\t\t\tmontage = None\n",
    "\t\t\t# loop over all image paths with the same hash\n",
    "\t\t\tfor p in hashedPaths:\n",
    "\t\t\t\t# load the input image and resize it to a fixed width\n",
    "\t\t\t\t# and heightG\n",
    "\t\t\t\timage = cv2.imread(p)\n",
    "\t\t\t\timage = cv2.resize(image, (150, 150))\n",
    "\t\t\t\t# if our montage is None, initialize it\n",
    "\t\t\t\tif montage is None:\n",
    "\t\t\t\t\tmontage = image\n",
    "\t\t\t\t# otherwise, horizontally stack the images\n",
    "\t\t\t\telse:\n",
    "\t\t\t\t\tmontage = np.hstack([montage, image])\n",
    "\t\t\t# show the montage for the hash\n",
    "\t\t\tprint(\"[INFO] hash: {}\".format(h))\n",
    "\t\t\tcv2.imshow(\"Montage\", montage)\n",
    "\t\t\tcv2.waitKey(0)\n",
    "# otherwise, we'll be removing the duplicate images\n",
    "\t\telse:\n",
    "\t\t\t# loop over all image paths with the same hash *except*\n",
    "\t\t\t# for the first image in the list (since we want to keep\n",
    "\t\t\t# one, and only one, of the duplicate images)\n",
    "\t\t\tfor p in hashedPaths[1:]:\n",
    "\t\t\t\tos.remove(p)"
   ]
  }
 ]
}